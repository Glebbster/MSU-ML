{
 "cells": [
  {
   "cell_type": "code",
   "execution_count": 5,
   "metadata": {},
   "outputs": [],
   "source": [
    "from sklearn.ensemble import GradientBoostingClassifier\n",
    "\n",
    "import numpy as np \n",
    "import matplotlib.pyplot as plt\n",
    "import pandas as pd\n",
    "from sklearn.metrics import accuracy_score\n",
    "train = pd.read_csv('train_abalone.csv')\n",
    "test = pd.read_csv('test_abalone.csv')\n",
    "\n",
    "x_train = np.array(train.iloc[:,1:9])\n",
    "y_train = np.array(train.iloc[:,9]).reshape((-1,1))\n",
    "\n",
    "x_test = np.array(test.iloc[:,1:9])\n",
    "y_test = np.array(test.iloc[:,9]).reshape((-1,1))\n",
    "\n",
    "result = {}\n",
    "for k in range(1,100,10):\n",
    "    model = GradientBoostingClassifier(verbose= 1, n_estimators = k,learning_rate= 0.1, random_state= 241, max_depth= 3)\n",
    "    model.fit(x_train,y_train)\n",
    "    answer = model.predict(x_test).reshape(-1,1)\n",
    "    result[k] = accuracy_score(y_test,answer)\n",
    "print(result)\n",
    "\n",
    "\n"
   ]
  }
 ],
 "metadata": {
  "kernelspec": {
   "display_name": "ML",
   "language": "python",
   "name": "python3"
  },
  "language_info": {
   "codemirror_mode": {
    "name": "ipython",
    "version": 3
   },
   "file_extension": ".py",
   "mimetype": "text/x-python",
   "name": "python",
   "nbconvert_exporter": "python",
   "pygments_lexer": "ipython3",
   "version": "3.10.11"
  }
 },
 "nbformat": 4,
 "nbformat_minor": 2
}
