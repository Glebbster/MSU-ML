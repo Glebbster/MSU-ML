{
 "cells": [
  {
   "cell_type": "markdown",
   "metadata": {},
   "source": [
    "# Написание класса который возвращает случайную выборку объектов и случайное подпространство признаков"
   ]
  },
  {
   "cell_type": "code",
   "execution_count": 7,
   "metadata": {},
   "outputs": [],
   "source": [
    "import numpy as np\n",
    "\n",
    "class sample(object):\n",
    "  def __init__(self, X, n_subspace,random_state):\n",
    "    self.random_state = random_state\n",
    "    self.idx_subspace = self.random_subspace(X, n_subspace,random_state)\n",
    "\n",
    "  def __call__(self, X, y):\n",
    "    idx_obj = self.bootstrap_sample(X)\n",
    "    X_sampled, y_sampled = self.get_subsample(X, y, self.idx_subspace, idx_obj)\n",
    "    return X_sampled, y_sampled\n",
    "\n",
    "  @staticmethod\n",
    "  def bootstrap_sample(X, random_state):\n",
    "    \"\"\"\n",
    "    Заполните тело этой функции таким образом, чтобы она возвращала массив индексов выбранных при помощи бэггинга индексов.\n",
    "    Пользуйтесь только инструментами, реализованными в numpy.random, выставляя везде, где это необходимо, random_state=42\n",
    "    \"\"\"\n",
    "    np.random.seed = random_state\n",
    "    idx = []\n",
    "    for i in range(X.shape[0]):\n",
    "      idx.append(np.random.choice(np.arange(0,X.shape[0])))\n",
    "    return np.unique(idx)\n",
    "  @staticmethod\n",
    "  def random_subspace(X, n_subspace, random_state):\n",
    "    \"\"\"\n",
    "    Заполните тело этой функции таким образом, чтобы она возвращала массив индексов выбранных при помощи метода случайных подпространств признаков\n",
    "    Количество этих признаков передается при помощи аргумента n_subspace\n",
    "    Пользуйтесь только инструментами, реализованными в numpy.random, выставляя везде, где это необходимо, random_state=42\n",
    "    \"\"\"\n",
    "    np.random.seed = random_state\n",
    "    answer = []\n",
    "    idx = np.arange(0,X.shape[1])\n",
    "    answer = np.random.choice(idx,replace= False,size = n_subspace)\n",
    "    return answer\n",
    "\n",
    "  @staticmethod\n",
    "  def get_subsample(X, y, idx_subspace, idx_obj):\n",
    "    \"\"\"\n",
    "    Заполните тело этой функции таким образом, чтобы она возвращала подвыборку x_sampled, y_sampled\n",
    "    по значениям индексов признаков(idx_subspace) и объектов(idx_obj) , которые должны в неё попасть\n",
    "    \"\"\"\n",
    "    X_sampled = X[np.ix_(idx_obj,idx_subspace)]\n",
    "    y_sampled = y[idx_obj]\n",
    "    return X_sampled, y_sampled\n"
   ]
  },
  {
   "cell_type": "code",
   "execution_count": null,
   "metadata": {},
   "outputs": [],
   "source": []
  },
  {
   "cell_type": "code",
   "execution_count": 8,
   "metadata": {},
   "outputs": [
    {
     "ename": "TypeError",
     "evalue": "sample.__init__() missing 1 required positional argument: 'random_state'",
     "output_type": "error",
     "traceback": [
      "\u001b[0;31m---------------------------------------------------------------------------\u001b[0m",
      "\u001b[0;31mTypeError\u001b[0m                                 Traceback (most recent call last)",
      "Cell \u001b[0;32mIn[8], line 3\u001b[0m\n\u001b[1;32m      1\u001b[0m x\u001b[38;5;241m=\u001b[39m np\u001b[38;5;241m.\u001b[39marray([[\u001b[38;5;241m1\u001b[39m,\u001b[38;5;241m2\u001b[39m,\u001b[38;5;241m3\u001b[39m], [\u001b[38;5;241m4\u001b[39m,\u001b[38;5;241m5\u001b[39m,\u001b[38;5;241m6\u001b[39m], [\u001b[38;5;241m7\u001b[39m,\u001b[38;5;241m8\u001b[39m,\u001b[38;5;241m9\u001b[39m]])\n\u001b[1;32m      2\u001b[0m Y \u001b[38;5;241m=\u001b[39m np\u001b[38;5;241m.\u001b[39marray([\u001b[38;5;241m1\u001b[39m, \u001b[38;5;241m2\u001b[39m, \u001b[38;5;241m3\u001b[39m])\n\u001b[0;32m----> 3\u001b[0m s \u001b[38;5;241m=\u001b[39m \u001b[43msample\u001b[49m\u001b[43m(\u001b[49m\u001b[43mx\u001b[49m\u001b[43m,\u001b[49m\u001b[43m \u001b[49m\u001b[38;5;241;43m2\u001b[39;49m\u001b[43m)\u001b[49m\n\u001b[1;32m      4\u001b[0m bootstrap_indices \u001b[38;5;241m=\u001b[39m s\u001b[38;5;241m.\u001b[39mbootstrap_sample(x)\n\u001b[1;32m      5\u001b[0m X_sampled, y_sampled \u001b[38;5;241m=\u001b[39m s\u001b[38;5;241m.\u001b[39mget_subsample(x, Y, s\u001b[38;5;241m.\u001b[39midx_subspace, bootstrap_indices)\n",
      "\u001b[0;31mTypeError\u001b[0m: sample.__init__() missing 1 required positional argument: 'random_state'"
     ]
    }
   ],
   "source": [
    "x= np.array([[1,2,3], [4,5,6], [7,8,9]])\n",
    "Y = np.array([1, 2, 3])\n",
    "s = sample(x, 2)\n",
    "bootstrap_indices = s.bootstrap_sample(x)\n",
    "X_sampled, y_sampled = s.get_subsample(x, Y, s.idx_subspace, bootstrap_indices)"
   ]
  },
  {
   "cell_type": "code",
   "execution_count": 9,
   "metadata": {},
   "outputs": [
    {
     "ename": "NameError",
     "evalue": "name 'bootstrap_indices' is not defined",
     "output_type": "error",
     "traceback": [
      "\u001b[0;31m---------------------------------------------------------------------------\u001b[0m",
      "\u001b[0;31mNameError\u001b[0m                                 Traceback (most recent call last)",
      "Cell \u001b[0;32mIn[9], line 1\u001b[0m\n\u001b[0;32m----> 1\u001b[0m \u001b[43mbootstrap_indices\u001b[49m\n",
      "\u001b[0;31mNameError\u001b[0m: name 'bootstrap_indices' is not defined"
     ]
    }
   ],
   "source": [
    "bootstrap_indices"
   ]
  },
  {
   "cell_type": "code",
   "execution_count": 10,
   "metadata": {},
   "outputs": [
    {
     "ename": "NameError",
     "evalue": "name 'X_sampled' is not defined",
     "output_type": "error",
     "traceback": [
      "\u001b[0;31m---------------------------------------------------------------------------\u001b[0m",
      "\u001b[0;31mNameError\u001b[0m                                 Traceback (most recent call last)",
      "Cell \u001b[0;32mIn[10], line 1\u001b[0m\n\u001b[0;32m----> 1\u001b[0m \u001b[43mX_sampled\u001b[49m\n",
      "\u001b[0;31mNameError\u001b[0m: name 'X_sampled' is not defined"
     ]
    }
   ],
   "source": [
    "X_sampled"
   ]
  },
  {
   "cell_type": "code",
   "execution_count": 11,
   "metadata": {},
   "outputs": [
    {
     "ename": "NameError",
     "evalue": "name 's' is not defined",
     "output_type": "error",
     "traceback": [
      "\u001b[0;31m---------------------------------------------------------------------------\u001b[0m",
      "\u001b[0;31mNameError\u001b[0m                                 Traceback (most recent call last)",
      "Cell \u001b[0;32mIn[11], line 1\u001b[0m\n\u001b[0;32m----> 1\u001b[0m \u001b[43ms\u001b[49m\u001b[38;5;241m.\u001b[39midx_subspace\n",
      "\u001b[0;31mNameError\u001b[0m: name 's' is not defined"
     ]
    }
   ],
   "source": [
    "s.idx_subspace"
   ]
  },
  {
   "cell_type": "markdown",
   "metadata": {},
   "source": [
    "# Написание класса random_forest. Поиск наилучших параметров для задачи Ирисов Фишера"
   ]
  },
  {
   "cell_type": "code",
   "execution_count": 13,
   "metadata": {},
   "outputs": [],
   "source": [
    "from sklearn.datasets import load_iris\n",
    "from sklearn.tree import DecisionTreeClassifier\n",
    "from sklearn.model_selection import train_test_split\n",
    "from sklearn.metrics import accuracy_score\n",
    "\n",
    "N_ESTIMATORS = 3\n",
    "MAX_DEPTH = 12\n",
    "SUBSPACE_DIM = 3\n",
    "np.random.seed = 42\n",
    "def vote(predicted:np.array)->np.array:\n",
    "    answer = []\n",
    "    for row in predicted:\n",
    "        result,votes = np.unique(row,return_counts=True)\n",
    "        answer.append(result[np.argmax(votes)])\n",
    "    return np.array(answer).reshape(-1,1)\n",
    "\n",
    "\n",
    "class random_forest:\n",
    "    def __init__(self, \n",
    "                 n_estimators: int,\n",
    "                 max_depth: int,\n",
    "                 subspaces_dim: int,\n",
    "                 random_state: float) -> None:\n",
    "        self.n_estimators = n_estimators\n",
    "        self.max_depth = max_depth\n",
    "        self.subspaces_dim = subspaces_dim\n",
    "        self.random_state = random_state\n",
    "        self._estimators = {}\n",
    "        self.subspace_idx =  {}\n",
    "    \n",
    "    def fit(self, X: np.array, y: np.array) -> None:\n",
    "         #Обучаем n_estimators моделей на разных подвыборках данных.\n",
    "        i = 0\n",
    "        for i in range(self.n_estimators):\n",
    "            random_state = self.random_state + i\n",
    "            data = sample(X, self.subspaces_dim,random_state = random_state)\n",
    "            bootstrap_indices = data.bootstrap_sample(X,random_state=random_state)\n",
    "            x_sampled, y_sampled = data.get_subsample(X, y, data.idx_subspace, bootstrap_indices)\n",
    "            model = DecisionTreeClassifier(max_depth=self.max_depth, random_state=self.random_state)\n",
    "            model.fit(x_sampled,y_sampled)\n",
    "            self._estimators[i] = model \n",
    "            self.subspace_idx[i] = data.idx_subspace\n",
    "\n",
    "\n",
    "    def predict(self, X: np.array) -> np.array: # Методом голосования определяем ответ для каждого объекта.\n",
    "        def _predict(i: int):\n",
    "            return self._estimators[i].predict(X[:, self.subspace_idx[i]]).reshape(-1,1)\n",
    "        \n",
    "        answer = _predict(0)\n",
    "        for i in range(1, self.n_estimators):\n",
    "            answer = np.hstack((answer, _predict(i))) #Получаем матрицу ответов всех моделей.\n",
    "        \n",
    "        return vote(answer)\n",
    "                \n"
   ]
  },
  {
   "cell_type": "code",
   "execution_count": 14,
   "metadata": {},
   "outputs": [
    {
     "name": "stdout",
     "output_type": "stream",
     "text": [
      "(45, 4)\n"
     ]
    }
   ],
   "source": [
    "X,y = load_iris(return_X_y=True)\n",
    "X_train,X_test,y_train,y_test = train_test_split(X,y,test_size=0.3)\n",
    "print(X_test.shape)"
   ]
  },
  {
   "cell_type": "code",
   "execution_count": 15,
   "metadata": {},
   "outputs": [],
   "source": [
    "result = {}\n",
    "for i in range(1,20):\n",
    "    for j in range(1,20):\n",
    "        for k in range(1,5):\n",
    "            rf = random_forest(i, j, k, 42)\n",
    "            rf.fit(X_train, y_train)\n",
    "            result[str(i)+' '+str(j)+' '+str(k)] = accuracy_score(y_test,rf.predict(X_test))\n"
   ]
  },
  {
   "cell_type": "code",
   "execution_count": 16,
   "metadata": {},
   "outputs": [
    {
     "data": {
      "text/plain": [
       "[('1 3 3', 1.0),\n",
       " ('1 6 3', 1.0),\n",
       " ('1 7 2', 1.0),\n",
       " ('1 7 3', 1.0),\n",
       " ('1 8 4', 1.0),\n",
       " ('1 9 3', 1.0)]"
      ]
     },
     "execution_count": 16,
     "metadata": {},
     "output_type": "execute_result"
    }
   ],
   "source": [
    "\n",
    "sorted(result.items(),key = lambda x:x[1],reverse= True)[:6]\n",
    "\n"
   ]
  }
 ],
 "metadata": {
  "kernelspec": {
   "display_name": "ML",
   "language": "python",
   "name": "python3"
  },
  "language_info": {
   "codemirror_mode": {
    "name": "ipython",
    "version": 3
   },
   "file_extension": ".py",
   "mimetype": "text/x-python",
   "name": "python",
   "nbconvert_exporter": "python",
   "pygments_lexer": "ipython3",
   "version": "3.10.11"
  }
 },
 "nbformat": 4,
 "nbformat_minor": 2
}
